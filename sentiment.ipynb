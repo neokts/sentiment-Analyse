{
 "cells": [
  {
   "cell_type": "markdown",
   "metadata": {},
   "source": [
    "crear la api en twiter christhianrts\n",
    "https://apps.twitter.com/app/15337883/settings"
   ]
  },
  {
   "cell_type": "markdown",
   "metadata": {},
   "source": [
    "Instalar las dependencias:<br>\n",
    "sudo pip install tweepy  # necesario para acceder a twiter API<br>\n",
    "sudo pip install textblob # ayuda a realizar el analisis de sentimiento<br>\n",
    "sudo python -m textblob.download_corpora<br>"
   ]
  },
  {
   "cell_type": "markdown",
   "metadata": {},
   "source": [
    "### Ejecutar desde la consola de comandos de python"
   ]
  },
  {
   "cell_type": "code",
   "execution_count": null,
   "metadata": {},
   "outputs": [],
   "source": [
    "# sentiment\n",
    "from textblob import TextBlob\n",
    "\n",
    "x = input(\"Introduce aqui tu texto en ingles \")\n",
    "wiki = TextBlob(x)\n",
    "wiki.tags\n",
    "wiki.words\n",
    "print(str(wiki.tags))\n",
    "y= wiki.sentiment.polarity\n",
    "if y >= 0.5:\n",
    "\tprint('Eres feliz ' + str(y))\n",
    "\tpass\n",
    "else:\n",
    "\tprint('No eres feliz ' + str(y))"
   ]
  },
  {
   "cell_type": "markdown",
   "metadata": {},
   "source": [
    "### create app from https://apps.twitter.com\n",
    "### user: cristhianrts"
   ]
  },
  {
   "cell_type": "code",
   "execution_count": null,
   "metadata": {},
   "outputs": [],
   "source": [
    "# create app in https://apps.twitter.com\n",
    "# user: cristhianrts\n",
    "import tweepy\n",
    "from textblob import TextBlob\n",
    "#from tweepy.auth import OAuthHandler\n",
    "\n",
    "consumer_key = 'B2v9FmKlMnU4aqYs2DDcPw2ps'\n",
    "consumer_secret = 'Qpui0muwm5g0bmrdmcgrThIhuWk427IotdkWoVJ75immhsDD9j'\n",
    "\n",
    "access_token = '963364072841449472-JZVKSql2ss5XmfJjxAULEefXq9TzbaY'\n",
    "access_token_secret = 'yGsd2BaeWut2kSMI8YrFiHT3LkNu0ydWi8gW1MKF7y30c'\n",
    "\n",
    "from tweepy.auth import OAuthHandler\n",
    "auth = tweepy.OAuthHandler(consumer_key, consumer_secret)\n",
    "auth.set_access_token(access_token, access_token_secret)\n",
    "\n",
    "api = tweepy.API(auth)\n",
    "print (api.verify_credentials())\n",
    "\n",
    "public_tweets = api.search('Trump')\n",
    "\n",
    "for tweet in public_tweets:\n",
    "\tprint(tweet.text)\n",
    "\tanalysis = TextBlob(tweet.text)\n",
    "\tprint(analysis.sentiment)\n",
    "\tpass"
   ]
  },
  {
   "cell_type": "code",
   "execution_count": null,
   "metadata": {},
   "outputs": [],
   "source": []
  }
 ],
 "metadata": {
  "kernelspec": {
   "display_name": "R",
   "language": "R",
   "name": "ir"
  },
  "language_info": {
   "codemirror_mode": "r",
   "file_extension": ".r",
   "mimetype": "text/x-r-source",
   "name": "R",
   "pygments_lexer": "r",
   "version": "3.4.3"
  }
 },
 "nbformat": 4,
 "nbformat_minor": 2
}
